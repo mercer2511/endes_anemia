{
 "cells": [
  {
   "metadata": {},
   "cell_type": "markdown",
   "source": [
    "# Análisis de la Asociación entre el Índice de Bienestar del Hogar y la Anemia en Niños (ENDES 2023)\n",
    "\n",
    "**Objetivo:** Evaluar si el índice de bienestar (quintil) de los hogares se asocia con la gravedad de la anemia en niños de 6-59 meses, utilizando datos de la ENDES 2023."
   ],
   "id": "35212b2337a06a82"
  },
  {
   "metadata": {},
   "cell_type": "markdown",
   "source": [
    "## Introducción\n",
    "\n",
    "En este Notebook se desarrolla el flujo de trabajo para:\n",
    "- Leer y fusionar los datos de diferentes CSV (RECH6, RECH0, RECH23 y RECH1).\n",
    "- Limpiar y transformar la información para generar el dataset `anemia_clean.parquet`.\n",
    "- Ajustar un modelo de regresión ordinal logit para analizar la asociación entre el índice de bienestar y la gravedad de la anemia."
   ],
   "id": "d19e31e3fb83dd32"
  },
  {
   "metadata": {},
   "cell_type": "markdown",
   "source": "## Carga de Datos y Exploración Inicial",
   "id": "16bfe589ca3609b2"
  },
  {
   "cell_type": "code",
   "id": "initial_id",
   "metadata": {
    "collapsed": true,
    "ExecuteTime": {
     "end_time": "2025-06-13T04:26:15.947524Z",
     "start_time": "2025-06-13T04:26:15.904576Z"
    }
   },
   "source": [
    "import pandas as pd\n",
    "import numpy as np\n",
    "\n",
    "# Ruta a la carpeta de datos\n",
    "DATA = \"../data/\"\n",
    "\n",
    "# Leer muestra de los archivos, por ejemplo, desde RECH6\n",
    "rech6 = pd.read_csv(DATA + \"RECH6_2023.csv\", nrows=5)\n",
    "print(\"Columnas de RECH6:\")\n",
    "print(rech6.columns.tolist())\n",
    "\n",
    "# Leer y mostrar información de RECH0 y RECH23 para confirmar cabeceras\n",
    "rech0 = pd.read_csv(DATA + \"RECH0_2023.csv\", nrows=5)\n",
    "print(\"Columnas de RECH0:\")\n",
    "print(rech0.columns.tolist())\n",
    "\n",
    "rech23 = pd.read_csv(DATA + \"RECH23_2023.csv\", nrows=5)\n",
    "print(\"Columnas de RECH23:\")\n",
    "print(rech23.columns.tolist())"
   ],
   "outputs": [
    {
     "name": "stdout",
     "output_type": "stream",
     "text": [
      "Columnas de RECH6:\n",
      "['ID1', 'HHID', 'HC0', 'HC1', 'HC2', 'HC3', 'HC4', 'HC5', 'HC6', 'HC7', 'HC8', 'HC9', 'HC10', 'HC11', 'HC12', 'HC13', 'HC15', 'HC16', 'HC19', 'HC27', 'HC30', 'HC31', 'HC32', 'HC33', 'HC51', 'HC52', 'HC53', 'HC55', 'HC56', 'HC57', 'HC58', 'HC60', 'HC61', 'HC62', 'HC63', 'HC64', 'HC68', 'HC70', 'HC71', 'HC72', 'HC73']\n",
      "Columnas de RECH0:\n",
      "['ID1', 'HHID', 'HV000', 'HV001', 'HV002', 'HV002A', 'HV003', 'HV004', 'HV007', 'HV008', 'HV009', 'HV010', 'HV011', 'HV012', 'HV013', 'HV014', 'HV015', 'HV017', 'HV020', 'HV021', 'HV023', 'HV024', 'HV025', 'HV026', 'HV027', 'HV028', 'HV030', 'HV031', 'HV032', 'HV033', 'HV035', 'HV040', 'HV041', 'HV042', 'HV043', 'HV044', 'UBIGEO', 'HV022', 'HV005', 'CODCCPP', 'NOMCCPP', 'LATITUDY', 'LONGITUDX', 'NCONGLOME']\n",
      "Columnas de RECH23:\n",
      "['ID1', 'HHID', 'HV201', 'HV202', 'HV204', 'HV205', 'HV206', 'HV207', 'HV208', 'HV209', 'HV210', 'HV211', 'HV212', 'HV213', 'HV214', 'HV215', 'HV216', 'HV217', 'HV218', 'HV219', 'HV220', 'HV221', 'HV225', 'HV226', 'HV227', 'HV228', 'HV234', 'HV235', 'HV236', 'HV237', 'HV237A', 'HV237B', 'HV237C', 'HV237D', 'HV237E', 'HV237F', 'HV237G', 'HV237H', 'HV237I', 'HV237J', 'HV237K', 'HV237X', 'HV237Z', 'HV238', 'HV239', 'HV240', 'HV241', 'HV242', 'HV243A', 'HV243B', 'HV243C', 'HV243D', 'HV244', 'HV245', 'HV246', 'HV246A', 'HV246B', 'HV246C', 'HV246D', 'HV246E', 'HV246F', 'HV246G', 'HV246H', 'HV246I', 'HV246J', 'HV246K', 'HV247', 'HV248', 'HV249', 'HV250', 'HV251', 'HML1', 'HML1A', 'HML2', 'SHVER', 'SHREGION', 'SHSEMES', 'SHPROVIN', 'SHDISTRI', 'SHTOTH', 'SH42', 'SH43', 'SH48', 'SH49', 'SH50', 'SH51', 'SH52', 'SH56', 'SH58', 'SH59', 'SH60', 'SH61A', 'SH61B', 'SH61C', 'SH61D', 'SH61E', 'SH61J', 'SH61K', 'SH61L', 'SH61M', 'SH61N', 'SH61O', 'SH61P', 'SH61Q', 'SH61R', 'SH61S', 'SH63', 'SH64', 'SH66', 'SH69', 'SH70', 'SH71', 'SH72', 'SXH73', 'SH76A', 'SH76B', 'SH76C', 'SH76D', 'SH76E', 'SH77F', 'SH78', 'SH79', 'SH224', 'SH225U', 'SH225', 'SH227', 'QH227A', 'QH227B', 'HV270', 'HV271']\n"
     ]
    }
   ],
   "execution_count": 1
  },
  {
   "metadata": {},
   "cell_type": "markdown",
   "source": "## Fusión y Limpieza de Datos",
   "id": "4bd923e0e3f129a0"
  },
  {
   "metadata": {
    "ExecuteTime": {
     "end_time": "2025-06-13T04:28:35.793922Z",
     "start_time": "2025-06-13T04:28:35.441777Z"
    }
   },
   "cell_type": "code",
   "source": [
    "# Lectura completa de los archivos esenciales\n",
    "rech6 = pd.read_csv(DATA + \"RECH6_2023.csv\", usecols=['HHID', 'HC0', 'HC1', 'HC27', 'HC57', 'HC60'])\n",
    "rech0 = pd.read_csv(DATA + \"RECH0_2023.csv\", usecols=['HHID', 'HV001', 'HV022', 'HV005'])\n",
    "rech23 = pd.read_csv(DATA + \"RECH23_2023.csv\", usecols=['HHID', 'HV270', 'HV271'])\n",
    "rech1 = pd.read_csv(DATA + \"RECH1_2023.csv\", usecols=['HHID', 'HVIDX', 'HV104', 'HV105', 'HV106', 'HV109'])\n",
    "\n",
    "# Unir datos\n",
    "df = rech6.merge(rech0, on='HHID', how='left').merge(rech23, on='HHID', how='left')\n",
    "madre = rech1.rename(columns={'HVIDX': 'HC60', 'HV104': 'sexo_madre', 'HV105': 'edad_madre',\n",
    "                               'HV106': 'edu_sup', 'HV109': 'edu_det'})\n",
    "df = df.merge(madre[['HHID','HC60','edad_madre','edu_sup','edu_det']], on=['HHID','HC60'], how='left')\n",
    "\n",
    "# Filtrar y transformar variables\n",
    "df = df[df['HC1'].between(6, 59) & df['HC57'].isin([1,2,3,4])]\n",
    "df['HV270'] = pd.to_numeric(df['HV270'], errors='coerce')\n",
    "df['peso'] = df['HV005'] / 1_000_000\n",
    "df['quintil'] = df['HV270'].astype(int)  # Uso directo de HV270\n",
    "df['sexo_nino'] = df['HC27'].replace({1: 0, 2: 1})\n",
    "df['anemia_bin'] = (df['HC57'] != 4).astype(int)\n",
    "\n",
    "# Mostrar estadísticas\n",
    "print(df['HV270'].describe())\n",
    "print(df[['quintil', 'HC1', 'sexo_nino', 'edad_madre']].head())"
   ],
   "id": "5be8e1e547ac2f31",
   "outputs": [
    {
     "name": "stdout",
     "output_type": "stream",
     "text": [
      "count    19265.000000\n",
      "mean         2.462185\n",
      "std          1.298972\n",
      "min          1.000000\n",
      "25%          1.000000\n",
      "50%          2.000000\n",
      "75%          3.000000\n",
      "max          5.000000\n",
      "Name: HV270, dtype: float64\n",
      "   quintil  HC1  sexo_nino  edad_madre\n",
      "0        4   42          1        39.0\n",
      "1        3   42          0         NaN\n",
      "2        4   27          1        30.0\n",
      "3        3   24          1        35.0\n",
      "4        4   55          1        27.0\n"
     ]
    }
   ],
   "execution_count": 2
  },
  {
   "metadata": {},
   "cell_type": "markdown",
   "source": "## Modelado Estadístico",
   "id": "7ce64039cbedf2b8"
  },
  {
   "metadata": {
    "ExecuteTime": {
     "end_time": "2025-06-13T04:29:11.931922Z",
     "start_time": "2025-06-13T04:29:09.555339Z"
    }
   },
   "cell_type": "code",
   "source": [
    "from statsmodels.miscmodels.ordinal_model import OrderedModel\n",
    "import statsmodels.api as sm\n",
    "\n",
    "# Preparar matriz de variables predictoras (sin constante)\n",
    "X = pd.get_dummies(df[['quintil', 'HC1', 'sexo_nino', 'edad_madre', 'edu_sup']], drop_first=True)\n",
    "y = df['HC57']\n",
    "\n",
    "# Manejo de valores faltantes en X\n",
    "X = X.dropna()\n",
    "y = y[X.index]\n",
    "\n",
    "# Ajustar el modelo ordinal logit (usando los pesos)\n",
    "model = OrderedModel(y, X, distr='logit', weights=df.loc[X.index, 'peso'])\n",
    "res = model.fit(method='bfgs', disp=0)\n",
    "print(res.summary())"
   ],
   "id": "ad0f576d4acfb742",
   "outputs": [
    {
     "name": "stdout",
     "output_type": "stream",
     "text": [
      "                             OrderedModel Results                             \n",
      "==============================================================================\n",
      "Dep. Variable:                   HC57   Log-Likelihood:                -14830.\n",
      "Model:                   OrderedModel   AIC:                         2.968e+04\n",
      "Method:            Maximum Likelihood   BIC:                         2.974e+04\n",
      "Date:                Thu, 12 Jun 2025                                         \n",
      "Time:                        23:29:11                                         \n",
      "No. Observations:               18342                                         \n",
      "Df Residuals:                   18334                                         \n",
      "Df Model:                           5                                         \n",
      "==============================================================================\n",
      "                 coef    std err          z      P>|z|      [0.025      0.975]\n",
      "------------------------------------------------------------------------------\n",
      "quintil        0.2309      0.015     15.331      0.000       0.201       0.260\n",
      "HC1            0.0426      0.001     39.952      0.000       0.041       0.045\n",
      "sexo_nino      0.2016      0.032      6.367      0.000       0.140       0.264\n",
      "edad_madre     0.0129      0.002      5.455      0.000       0.008       0.017\n",
      "edu_sup        0.1110      0.026      4.292      0.000       0.060       0.162\n",
      "1/2           -4.1610      0.215    -19.332      0.000      -4.583      -3.739\n",
      "2/3            1.5053      0.043     34.719      0.000       1.420       1.590\n",
      "3/4            0.5208      0.014     37.334      0.000       0.494       0.548\n",
      "==============================================================================\n"
     ]
    }
   ],
   "execution_count": 3
  },
  {
   "metadata": {},
   "cell_type": "markdown",
   "source": "## Interpretación y Visualización de Resultados",
   "id": "f414167985c1e688"
  },
  {
   "metadata": {
    "ExecuteTime": {
     "end_time": "2025-06-13T04:29:25.112156Z",
     "start_time": "2025-06-13T04:29:24.904804Z"
    }
   },
   "cell_type": "code",
   "source": [
    "import seaborn as sns\n",
    "import matplotlib.pyplot as plt\n",
    "\n",
    "# Visualización de la distribución del índice de bienestar\n",
    "sns.countplot(x='quintil', data=df)\n",
    "plt.title(\"Distribución del Índice de Bienestar (quintil)\")\n",
    "plt.show()\n",
    "\n",
    "# Mostrar los odds ratios\n",
    "odds_ratios = np.exp(res.params)\n",
    "print(\"Odds Ratios:\")\n",
    "print(odds_ratios.round(3))"
   ],
   "id": "75afde568ff24405",
   "outputs": [
    {
     "data": {
      "text/plain": [
       "<Figure size 640x480 with 1 Axes>"
      ],
      "image/png": "[encoded data removed]"
     },
     "metadata": {},
     "output_type": "display_data"
    },
    {
     "name": "stdout",
     "output_type": "stream",
     "text": [
      "Odds Ratios:\n",
      "quintil       1.260\n",
      "HC1           1.044\n",
      "sexo_nino     1.223\n",
      "edad_madre    1.013\n",
      "edu_sup       1.117\n",
      "1/2           0.016\n",
      "2/3           4.505\n",
      "3/4           1.683\n",
      "dtype: float64\n"
     ]
    }
   ],
   "execution_count": 4
  },
  {
   "metadata": {},
   "cell_type": "markdown",
   "source": [
    "## Conclusiones\n",
    "\n",
    "- Se encontró que a mayor índice de bienestar, aumenta la probabilidad de que el niño se encuentre en una mejor categoría de anemia.\n",
    "- Otras variables significativas incluyen la edad del niño, sexo, edad y educación de la madre.\n",
    "\n",
    "## Próximos Pasos\n",
    "\n",
    "- Incluir más covariables ambientales.\n",
    "- Ajustar el modelo considerando el diseño muestral complejo.\n",
    "- Realizar diagnósticos y validación cruzada."
   ],
   "id": "12455804d90da2ed"
  }
 ],
 "metadata": {
  "kernelspec": {
   "display_name": "Python 3",
   "language": "python",
   "name": "python3"
  },
  "language_info": {
   "codemirror_mode": {
    "name": "ipython",
    "version": 2
   },
   "file_extension": ".py",
   "mimetype": "text/x-python",
   "name": "python",
   "nbconvert_exporter": "python",
   "pygments_lexer": "ipython2",
   "version": "2.7.6"
  }
 },
 "nbformat": 4,
 "nbformat_minor": 5
}
